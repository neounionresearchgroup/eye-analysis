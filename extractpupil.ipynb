{
 "cells": [
  {
   "cell_type": "code",
   "execution_count": 2,
   "id": "d3fba932",
   "metadata": {},
   "outputs": [],
   "source": [
    "import cv2, typing, math\n",
    "import numpy as np\n",
    "import matplotlib.pyplot as plt"
   ]
  },
  {
   "cell_type": "code",
   "execution_count": 3,
   "id": "9b4b061f",
   "metadata": {},
   "outputs": [],
   "source": [
    "FACE_CASCADE = cv2.CascadeClassifier(cv2.data.haarcascades + 'haarcascade_frontalface_default.xml')\n",
    "\n",
    "EYE_CASCADE = cv2.CascadeClassifier(cv2.data.haarcascades + 'haarcascade_eye.xml')"
   ]
  },
  {
   "cell_type": "code",
   "execution_count": 4,
   "id": "e944f3e7",
   "metadata": {},
   "outputs": [],
   "source": [
    "def __detect(classifier: cv2.CascadeClassifier, grayscale: np.ndarray, scale_factor: float, min_neighbors: int, min_size: typing.Tuple[int, int]) -> np.ndarray:\n",
    "    detections = classifier.detectMultiScale(\n",
    "        grayscale,\n",
    "        scaleFactor = scale_factor,\n",
    "        minNeighbors = min_neighbors,\n",
    "        minSize = min_size\n",
    "    )\n",
    "\n",
    "    return detections.tolist()"
   ]
  },
  {
   "cell_type": "code",
   "execution_count": 5,
   "id": "5db5d20a",
   "metadata": {},
   "outputs": [],
   "source": [
    "def __detect_face(classifier: cv2.CascadeClassifier, grayscale: np.ndarray) -> typing.Tuple[np.ndarray,np.ndarray]:\n",
    "    SCALE_FACTOR = 1.1\n",
    "    MIN_NEIGHBORS = 5\n",
    "    MIN_SIZE = (120, 120)\n",
    "    return __detect(classifier, grayscale, scale_factor = SCALE_FACTOR, min_neighbors = MIN_NEIGHBORS, min_size = MIN_SIZE)"
   ]
  },
  {
   "cell_type": "code",
   "execution_count": 6,
   "id": "ee7d5f3d",
   "metadata": {},
   "outputs": [],
   "source": [
    "def __detect_eyes(classifier: cv2.CascadeClassifier, grayscale: np.ndarray) -> np.ndarray:\n",
    "    SCALE_FACTOR = 1.1\n",
    "    MIN_NEIGHBORS = 10\n",
    "    MIN_SIZE = (20, 20)\n",
    "\n",
    "    return __detect(classifier, grayscale, scale_factor = SCALE_FACTOR, min_neighbors = MIN_NEIGHBORS, min_size = MIN_SIZE)"
   ]
  },
  {
   "cell_type": "code",
   "execution_count": 7,
   "id": "65deee57",
   "metadata": {},
   "outputs": [],
   "source": [
    "def __crop_face(image: np.ndarray, face: np.ndarray) -> np.ndarray:\n",
    "    crops = []\n",
    "    \n",
    "    for (x, y, w, h) in face:\n",
    "    \n",
    "        crop = image[y:y+h, x:x+w]\n",
    "    \n",
    "        crops.append(crop)\n",
    "\n",
    "    return crops[0]"
   ]
  },
  {
   "cell_type": "code",
   "execution_count": 8,
   "id": "237ba541",
   "metadata": {},
   "outputs": [],
   "source": [
    "def __crop_eyes(image: np.ndarray, eyes:np.ndarray) -> np.ndarray:\n",
    "    crops = []\n",
    "\n",
    "    for (ex, ey, ew, eh) in eyes:\n",
    "        crop = image[ey:ey+eh, ex:ex+ew]\n",
    "        crops.append(crop)\n",
    "\n",
    "    return crops"
   ]
  },
  {
   "cell_type": "code",
   "execution_count": 9,
   "id": "0977cd37",
   "metadata": {},
   "outputs": [],
   "source": [
    "def __extract_pupil(eye_crop: np.ndarray) -> np.ndarray:\n",
    "    \n",
    "    gray = cv2.cvtColor(eye_crop, cv2.COLOR_RGBA2GRAY if eye_crop.shape[2] == 4 else cv2.COLOR_RGB2GRAY)\n",
    "\n",
    "    blur = cv2.GaussianBlur(gray, (7, 7), 0)\n",
    "\n",
    "    # Fix ???\n",
    "    # 50\n",
    "    _, thresh = cv2.threshold(blur, 50, 255, cv2.THRESH_BINARY_INV)\n",
    "\n",
    "    contours, _ = cv2.findContours(thresh, cv2.RETR_EXTERNAL, cv2.CHAIN_APPROX_SIMPLE)\n",
    "\n",
    "    if len(contours) == 0:\n",
    "        return np.zeros_like(eye_crop) \n",
    "\n",
    "    pupil_contour = max(contours, key=cv2.contourArea)\n",
    "\n",
    "    \n",
    "    mask = np.zeros_like(gray)\n",
    "    cv2.drawContours(mask, [pupil_contour], -1, 255, -1)\n",
    "\n",
    "    \n",
    "    pupil_masked = cv2.bitwise_and(eye_crop, eye_crop, mask=mask)\n",
    "\n",
    "    return pupil_masked"
   ]
  },
  {
   "cell_type": "code",
   "execution_count": null,
   "id": "e85ff26f",
   "metadata": {},
   "outputs": [],
   "source": [
    "image = cv2.imread('./dataset/face1.png')\n",
    "image = cv2.cvtColor(image,cv2.COLOR_BGR2RGBA)\n",
    "face = __detect_face(FACE_CASCADE, image)\n",
    "(x,y,h,w) = face[0]\n",
    "face = __crop_face(image,face)\n",
    "eyes = __detect_eyes(EYE_CASCADE,face[0:int(h * 0.6), :])\n",
    "\n",
    "# crop\n",
    "eye_crops = __crop_eyes(face,eyes)\n",
    "\n",
    "# extract pupil\n",
    "eye_l = __extract_pupil(eye_crops[0])\n",
    "eye_r = __extract_pupil(eye_crops[1])\n",
    "\n",
    "#\n",
    "# show\n",
    "#\n",
    "fig, axes = plt.subplots(1, 2, figsize=(6, 3))\n",
    "\n",
    "axes[0].imshow(eye_r)\n",
    "axes[1].imshow(eye_l)\n",
    "plt.show()"
   ]
  }
 ],
 "metadata": {
  "kernelspec": {
   "display_name": "Python 3",
   "language": "python",
   "name": "python3"
  },
  "language_info": {
   "codemirror_mode": {
    "name": "ipython",
    "version": 3
   },
   "file_extension": ".py",
   "mimetype": "text/x-python",
   "name": "python",
   "nbconvert_exporter": "python",
   "pygments_lexer": "ipython3",
   "version": "3.10.12"
  }
 },
 "nbformat": 4,
 "nbformat_minor": 5
}
