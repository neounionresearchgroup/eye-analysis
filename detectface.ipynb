{
 "cells": [
  {
   "cell_type": "code",
   "execution_count": 1,
   "id": "94070b8e",
   "metadata": {},
   "outputs": [],
   "source": [
    "import cv2, typing,numpy as np\n",
    "from matplotlib import pyplot as plt"
   ]
  },
  {
   "cell_type": "code",
   "execution_count": 2,
   "id": "66f1b057",
   "metadata": {},
   "outputs": [],
   "source": [
    "def __get_cv2_haarcascade_frontalface():\n",
    "    return cv2.CascadeClassifier(cv2.data.haarcascades + 'haarcascade_frontalface_default.xml')"
   ]
  },
  {
   "cell_type": "code",
   "execution_count": 3,
   "id": "4b89c9be",
   "metadata": {},
   "outputs": [],
   "source": [
    "def __detect(classifier: cv2.CascadeClassifier, grayscale: np.ndarray, scale_factor: float, min_neighbors: int, min_size: typing.Tuple[int, int]) -> np.ndarray:\n",
    "    detections = classifier.detectMultiScale(\n",
    "        grayscale,\n",
    "        scaleFactor = scale_factor,\n",
    "        minNeighbors = min_neighbors,\n",
    "        minSize = min_size\n",
    "    )\n",
    "\n",
    "    return detections.tolist()"
   ]
  },
  {
   "cell_type": "code",
   "execution_count": 4,
   "id": "ad444015",
   "metadata": {},
   "outputs": [],
   "source": [
    "def __detect_face(classifier: cv2.CascadeClassifier, grayscale: np.ndarray) -> typing.Tuple[np.ndarray,np.ndarray]:\n",
    "    SCALE_FACTOR = 1.1\n",
    "    MIN_NEIGHBORS = 5\n",
    "    MIN_SIZE = (120, 120)\n",
    "    \n",
    "    face_range = __detect(classifier, grayscale, scale_factor = SCALE_FACTOR, min_neighbors = MIN_NEIGHBORS, min_size = MIN_SIZE)\n",
    "    \n",
    "    return grayscale, face_range"
   ]
  },
  {
   "cell_type": "code",
   "execution_count": null,
   "id": "ce792a80",
   "metadata": {},
   "outputs": [],
   "source": [
    "# Get Classifier\n",
    "face_cascade = __get_cv2_haarcascade_frontalface()\n",
    "\n",
    "# Read Image\n",
    "image = cv2.imread('./dataset/face1.png')\n",
    "\n",
    "# To Grayscale\n",
    "grayscale = cv2.cvtColor(image, cv2.IMREAD_GRAYSCALE)\n",
    "\n",
    "# Detect Face (returns: face image, detected face range)\n",
    "face, face_range = __detect_face(face_cascade, grayscale)\n",
    "\n",
    "# Draw Rectangle around the face\n",
    "for (x, y, w, h) in face_range:\n",
    "    cv2.rectangle(face, (x, y), (x+w, y+h), (255, 0, 0), 2)\n",
    "\n",
    "# Show\n",
    "plt.imshow(face)\n",
    "plt.show()"
   ]
  }
 ],
 "metadata": {
  "kernelspec": {
   "display_name": "Python 3",
   "language": "python",
   "name": "python3"
  },
  "language_info": {
   "codemirror_mode": {
    "name": "ipython",
    "version": 3
   },
   "file_extension": ".py",
   "mimetype": "text/x-python",
   "name": "python",
   "nbconvert_exporter": "python",
   "pygments_lexer": "ipython3",
   "version": "3.12.1"
  }
 },
 "nbformat": 4,
 "nbformat_minor": 5
}
