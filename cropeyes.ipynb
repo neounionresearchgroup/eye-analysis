{
 "cells": [
  {
   "cell_type": "code",
   "execution_count": 1,
   "id": "0b8a0616",
   "metadata": {},
   "outputs": [],
   "source": [
    "import cv2, typing\n",
    "import numpy as np\n",
    "import matplotlib.pyplot as plt"
   ]
  },
  {
   "cell_type": "code",
   "execution_count": 2,
   "id": "5a2ab650",
   "metadata": {},
   "outputs": [],
   "source": [
    "FACE_CASCADE = cv2.CascadeClassifier(cv2.data.haarcascades + 'haarcascade_frontalface_default.xml')\n",
    "\n",
    "EYE_CASCADE = cv2.CascadeClassifier(cv2.data.haarcascades + 'haarcascade_eye.xml')"
   ]
  },
  {
   "cell_type": "code",
   "execution_count": 3,
   "id": "ed65b08f",
   "metadata": {},
   "outputs": [],
   "source": [
    "def __detect(classifier: cv2.CascadeClassifier, grayscale: np.ndarray, scale_factor: float, min_neighbors: int, min_size: typing.Tuple[int, int]) -> np.ndarray:\n",
    "    detections = classifier.detectMultiScale(\n",
    "        grayscale,\n",
    "        scaleFactor = scale_factor,\n",
    "        minNeighbors = min_neighbors,\n",
    "        minSize = min_size\n",
    "    )\n",
    "\n",
    "    return detections.tolist()"
   ]
  },
  {
   "cell_type": "code",
   "execution_count": 4,
   "id": "8041b979",
   "metadata": {},
   "outputs": [],
   "source": [
    "def __detect_face(classifier: cv2.CascadeClassifier, grayscale: np.ndarray) -> typing.Tuple[np.ndarray,np.ndarray]:\n",
    "    SCALE_FACTOR = 1.1\n",
    "    MIN_NEIGHBORS = 5\n",
    "    MIN_SIZE = (120, 120)\n",
    "    return __detect(classifier, grayscale, scale_factor = SCALE_FACTOR, min_neighbors = MIN_NEIGHBORS, min_size = MIN_SIZE)"
   ]
  },
  {
   "cell_type": "code",
   "execution_count": 5,
   "id": "f8476f21",
   "metadata": {},
   "outputs": [],
   "source": [
    "def __detect_eyes(classifier: cv2.CascadeClassifier, grayscale: np.ndarray) -> np.ndarray:\n",
    "    SCALE_FACTOR = 1.1\n",
    "    MIN_NEIGHBORS = 10\n",
    "    MIN_SIZE = (20, 20)\n",
    "\n",
    "    return __detect(classifier, grayscale, scale_factor = SCALE_FACTOR, min_neighbors = MIN_NEIGHBORS, min_size = MIN_SIZE)"
   ]
  },
  {
   "cell_type": "code",
   "execution_count": 6,
   "id": "e9b2d547",
   "metadata": {},
   "outputs": [],
   "source": [
    "def __crop_face(image: np.ndarray, face: np.ndarray) -> np.ndarray:\n",
    "    crops = []\n",
    "    \n",
    "    for (x, y, w, h) in face:\n",
    "    \n",
    "        crop = image[y:y+h, x:x+w]\n",
    "    \n",
    "        crops.append(crop)\n",
    "\n",
    "    return crops[0]"
   ]
  },
  {
   "cell_type": "code",
   "execution_count": 7,
   "id": "54d1818e",
   "metadata": {},
   "outputs": [],
   "source": [
    "def __crop_eyes(image: np.ndarray, eyes:np.ndarray) -> np.ndarray:\n",
    "    crops = []\n",
    "\n",
    "    for (x, y, w, h) in eyes:\n",
    "        crop = image[y:y+h, x:x+w]\n",
    "        crops.append(crop)\n",
    "\n",
    "    return crops"
   ]
  },
  {
   "cell_type": "code",
   "execution_count": null,
   "id": "bc04e0f8",
   "metadata": {},
   "outputs": [],
   "source": [
    "image = cv2.imread('./dataset/face1.png')\n",
    "image = cv2.cvtColor(image,cv2.COLOR_BGR2RGBA)\n",
    "face = __detect_face(FACE_CASCADE, image)\n",
    "(x,y,h,w) = face[0]\n",
    "face = __crop_face(image,face)\n",
    "eyes = __detect_eyes(EYE_CASCADE,face[0:int(h * 0.6), :]) # face upper: 60%\n",
    "eye_crops = __crop_eyes(face,eyes)\n",
    "plt.imshow(eye_crops[0])\n",
    "plt.show()"
   ]
  }
 ],
 "metadata": {
  "kernelspec": {
   "display_name": "Python 3",
   "language": "python",
   "name": "python3"
  },
  "language_info": {
   "codemirror_mode": {
    "name": "ipython",
    "version": 3
   },
   "file_extension": ".py",
   "mimetype": "text/x-python",
   "name": "python",
   "nbconvert_exporter": "python",
   "pygments_lexer": "ipython3",
   "version": "3.10.12"
  }
 },
 "nbformat": 4,
 "nbformat_minor": 5
}
