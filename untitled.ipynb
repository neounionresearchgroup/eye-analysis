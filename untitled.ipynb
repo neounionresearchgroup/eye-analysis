{
 "cells": [
  {
   "cell_type": "code",
   "execution_count": 81,
   "id": "af90e5d5",
   "metadata": {},
   "outputs": [],
   "source": [
    "import cv2, typing\n",
    "import numpy as np\n",
    "import utils"
   ]
  },
  {
   "cell_type": "code",
   "execution_count": 82,
   "id": "37a90148",
   "metadata": {},
   "outputs": [],
   "source": [
    "def __get_cv2_haarcascade_frontalface() -> cv2.CascadeClassifier:\n",
    "    return cv2.CascadeClassifier(cv2.data.haarcascades + 'haarcascade_frontalface_default.xml')\n",
    "\n",
    "def __get_cv2_haarcascade_eye() -> cv2.CascadeClassifier:\n",
    "    return cv2.CascadeClassifier(cv2.data.haarcascades + 'haarcascade_eye.xml')"
   ]
  },
  {
   "cell_type": "code",
   "execution_count": 83,
   "id": "1f89bf92",
   "metadata": {},
   "outputs": [],
   "source": [
    "def __detect(classifier: cv2.CascadeClassifier, grayscale: np.ndarray, scale_factor: float, min_neighbors: int, min_size: typing.Tuple[int, int]) -> np.ndarray:\n",
    "    detections = classifier.detectMultiScale(\n",
    "        grayscale,\n",
    "        scaleFactor = scale_factor,\n",
    "        minNeighbors = min_neighbors,\n",
    "        minSize = min_size\n",
    "    )\n",
    "\n",
    "    return detections.tolist()"
   ]
  },
  {
   "cell_type": "code",
   "execution_count": 84,
   "id": "2a6d8682",
   "metadata": {},
   "outputs": [],
   "source": [
    "def __detect_faces(classifier: cv2.CascadeClassifier, grayscale: np.ndarray) -> np.ndarray:\n",
    "    SCALE_FACTOR = 1.1\n",
    "    MIN_NEIGHBORS = 5\n",
    "    MIN_SIZE = (120, 120)\n",
    "\n",
    "    return __detect(classifier, grayscale, scale_factor = SCALE_FACTOR, min_neighbors = MIN_NEIGHBORS, min_size = MIN_SIZE)\n",
    "    \n",
    "    \n",
    "def __detect_eyes(classifier: cv2.CascadeClassifier, grayscale: np.ndarray) -> np.ndarray:\n",
    "    SCALE_FACTOR = 1.1\n",
    "    MIN_NEIGHBORS = 10\n",
    "    MIN_SIZE = (20, 20)\n",
    "\n",
    "    return __detect(classifier, grayscale, scale_factor = SCALE_FACTOR, min_neighbors = MIN_NEIGHBORS, min_size = MIN_SIZE)"
   ]
  },
  {
   "cell_type": "code",
   "execution_count": 85,
   "id": "36adbaef",
   "metadata": {},
   "outputs": [],
   "source": [
    "def __label_eyes_in_image(eyes: np.ndarray) -> np.ndarray:\n",
    "    EYE_COUNT = 2\n",
    "    LEFT_EYE_INDEX = 0\n",
    "    RIGHT_EYE_INDEX = 1\n",
    "    LEFT_EYE_LABEL = 'L'\n",
    "    RIGHT_EYE_LABEL = 'R'\n",
    "\n",
    "    sorted_eyes = sorted(eyes, key=lambda eye: eye[LEFT_EYE_INDEX])\n",
    "\n",
    "    if len(sorted_eyes) != EYE_COUNT:\n",
    "        raise ValueError('')\n",
    "    \n",
    "    if len(sorted_eyes) == EYE_COUNT:\n",
    "        return [(LEFT_EYE_LABEL, sorted_eyes[0]), (RIGHT_EYE_LABEL, sorted_eyes[RIGHT_EYE_INDEX])]\n",
    "    else:\n",
    "        raise ValueError('')"
   ]
  },
  {
   "cell_type": "code",
   "execution_count": 86,
   "id": "fe7c69e4",
   "metadata": {},
   "outputs": [],
   "source": [
    "def __clahe_eye(grayscale: np.ndarray) -> np.ndarray:\n",
    "    CLIP_LIMIT:float = 2.0\n",
    "    \n",
    "    TILE_GRID_SIZE:tuple[int, int] = (8, 8)\n",
    "\n",
    "    clahe = cv2.createCLAHE(clipLimit = CLIP_LIMIT, tileGridSize = TILE_GRID_SIZE)\n",
    "\n",
    "    equalized = clahe.apply(grayscale)\n",
    "\n",
    "    return equalized"
   ]
  },
  {
   "cell_type": "code",
   "execution_count": 87,
   "id": "c1b9c978",
   "metadata": {},
   "outputs": [],
   "source": [
    "def __blur_eye(equalized: np.ndarray) -> np.ndarray:\n",
    "    KERNEL_SIZE:tuple[int, int] = (7, 7)\n",
    "    \n",
    "    blurred = cv2.GaussianBlur(equalized, KERNEL_SIZE, 0)\n",
    "\n",
    "    return blurred"
   ]
  },
  {
   "cell_type": "code",
   "execution_count": 88,
   "id": "ddadd1fc",
   "metadata": {},
   "outputs": [],
   "source": [
    "def __threshold_eye(blurred: np.ndarray) -> np.ndarray:\n",
    "    WHITE: int = 255\n",
    "\n",
    "    _, thresholded = cv2.threshold(blurred, 0, WHITE, cv2.THRESH_BINARY_INV + cv2.THRESH_OTSU)\n",
    "\n",
    "    return thresholded"
   ]
  },
  {
   "cell_type": "code",
   "execution_count": 89,
   "id": "b2d61468",
   "metadata": {},
   "outputs": [],
   "source": [
    "def __morphological_transform_eye(thresholded: np.ndarray) -> np.ndarray:\n",
    "    MORPH_OPEN_KERNEL_SIZE:tuple[int, int] = (3, 3)\n",
    "    MORPH_CLOSE_KERNEL_SIZE:tuple[int, int] = (5, 5)\n",
    "    ITERATIONS_OPEN: int = 1\n",
    "    ITERATIONS_CLOSE: int = 2\n",
    "\n",
    "    thresholded = cv2.morphologyEx(thresholded, cv2.MORPH_OPEN, np.ones(MORPH_OPEN_KERNEL_SIZE, np.uint8), iterations = ITERATIONS_OPEN)\n",
    "\n",
    "    thresholded = cv2.morphologyEx(thresholded, cv2.MORPH_CLOSE, np.ones(MORPH_CLOSE_KERNEL_SIZE, np.uint8), iterations = ITERATIONS_CLOSE)\n",
    "\n",
    "    return thresholded"
   ]
  }
 ],
 "metadata": {
  "kernelspec": {
   "display_name": "Python 3",
   "language": "python",
   "name": "python3"
  },
  "language_info": {
   "codemirror_mode": {
    "name": "ipython",
    "version": 3
   },
   "file_extension": ".py",
   "mimetype": "text/x-python",
   "name": "python",
   "nbconvert_exporter": "python",
   "pygments_lexer": "ipython3",
   "version": "3.12.1"
  }
 },
 "nbformat": 4,
 "nbformat_minor": 5
}
